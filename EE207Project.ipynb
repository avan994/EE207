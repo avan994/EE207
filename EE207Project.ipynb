{
 "cells": [
  {
   "cell_type": "markdown",
   "metadata": {
    "collapsed": false
   },
   "source": [
    "## EE 207 Project\n",
    "\n",
    "Robert Summers\n",
    "\n",
    "Anthony Van\n",
    "\n",
    "Notes: Loaded in assets and set up general scheme for simplicity"
   ]
  },
  {
   "cell_type": "code",
   "execution_count": 41,
   "metadata": {
    "collapsed": true
   },
   "outputs": [],
   "source": [
    "import numpy as np\n",
    "import time\n",
    "import matplotlib.pyplot as plt\n",
    "from numpy.linalg import svd, norm, pinv\n",
    "import nengo\n",
    "from numpy import pi\n",
    "from nengo.utils.ensemble import tuning_curves\n",
    "%matplotlib inline"
   ]
  },
  {
   "cell_type": "code",
   "execution_count": 47,
   "metadata": {
    "collapsed": false
   },
   "outputs": [
    {
     "name": "stdout",
     "output_type": "stream",
     "text": [
      "False\n"
     ]
    }
   ],
   "source": [
    "#Global Parameters\n",
    "class Config(object):\n",
    "    def __init__(self):\n",
    "        return\n",
    "\n",
    "#debugging\n",
    "Config.plotScores = False;\n",
    "Config.plotValues = False;\n",
    "print Config.plotScores\n",
    "\n",
    "#Initialize Data (Global)\n",
    "\n",
    "#testcomment"
   ]
  },
  {
   "cell_type": "code",
   "execution_count": 49,
   "metadata": {
    "collapsed": false
   },
   "outputs": [],
   "source": [
    "#General Use Functions\n",
    "\n",
    "#Mapping Functions\n",
    "##########################################################\n",
    "#Takes a list of letters and returns the ASCII values\n",
    "def LettersToNumbers(letters):\n",
    "    return [ord(l) for l in letters]\n",
    "\n",
    "#Takes a list of ASCII values and returns the letters\n",
    "def NumbersToLetters(numbers):\n",
    "    return [chr(n) for n in numbers]\n",
    "\n",
    "#debugging\n",
    "#at = ['a', 'b', 'c']\n",
    "#bt = LettersToNumbers(at)\n",
    "#print bt\n",
    "#print NumbersToLetters(bt)\n",
    "\n",
    "#Utility Functions\n",
    "##########################################################\n",
    "#Input: List of values, plots it by element number\n",
    "def plot(a_in):\n",
    "    plt.plot(range(0, len(a_in)), a_in)\n",
    "    plt.xlabel('Element No.')\n",
    "\n",
    "#Scoring Functions\n",
    "##########################################################\n",
    "\n",
    "#Input: Two numbers a_in and b_in (the \"correct\" value)\n",
    "def equals(a_in, b_in):\n",
    "    return a_in == b_in\n",
    "\n",
    "#Input: Two numbers a_in and b_in (the \"correct\" value)\n",
    "def percentDifference(a_in, b_in):\n",
    "    return (a_in-b_in)/b_in\n",
    "\n",
    "#Input: Two lists of numbers where we test a against b (the \"correct\" list)\n",
    "#using a scoring function.\n",
    "def scoreAll(a_in, b_in, scoringFunction_in):\n",
    "    scores = [scoringFunction_in(a_i, b_in[i]) for i, a_i in enumerate(a_in)]\n",
    "    score = sum(scores);\n",
    "    \n",
    "    if (Config.plotScores):\n",
    "        plt.figure()\n",
    "        plot(scores)\n",
    "    if (Config.plotValues):\n",
    "        plt.figure()\n",
    "        plot(a_in)\n",
    "        plot(b_in)\n",
    "    return score;\n",
    "\n",
    "#Input: Two lists of letters where we test a against b (the \"correct\" list)\n",
    "#using the equality function\n",
    "def scoreAllLetters(a_in, b_in):\n",
    "    return scoreAll(LettersToNumbers(a_in), LettersToNumbers(b_in), equals);\n",
    "\n",
    "#debugging\n",
    "#at = [1, 2, 3]\n",
    "#print scoreAll(at,at, percentSame)"
   ]
  },
  {
   "cell_type": "code",
   "execution_count": 21,
   "metadata": {
    "collapsed": false
   },
   "outputs": [
    {
     "name": "stdout",
     "output_type": "stream",
     "text": [
      "49\n"
     ]
    }
   ],
   "source": []
  },
  {
   "cell_type": "code",
   "execution_count": null,
   "metadata": {
    "collapsed": true
   },
   "outputs": [],
   "source": [
    "def Model1:\n",
    "    #TODO: Implement a model!\n",
    "    \n",
    "    result = \n",
    "    return"
   ]
  }
 ],
 "metadata": {
  "kernelspec": {
   "display_name": "Python 2",
   "language": "python",
   "name": "python2"
  },
  "language_info": {
   "codemirror_mode": {
    "name": "ipython",
    "version": 2
   },
   "file_extension": ".py",
   "mimetype": "text/x-python",
   "name": "python",
   "nbconvert_exporter": "python",
   "pygments_lexer": "ipython2",
   "version": "2.7.13"
  }
 },
 "nbformat": 4,
 "nbformat_minor": 2
}
