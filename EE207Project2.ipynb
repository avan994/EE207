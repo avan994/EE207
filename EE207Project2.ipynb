{
 "cells": [
  {
   "cell_type": "markdown",
   "metadata": {
    "collapsed": false
   },
   "source": [
    "## EE 207 Project\n",
    "\n",
    "Robert Summers\n",
    "\n",
    "Anthony Van\n",
    "\n",
    "Notes: Loaded in assets and set up general scheme for simplicity"
   ]
  },
  {
   "cell_type": "code",
   "execution_count": 17,
   "metadata": {
    "collapsed": false
   },
   "outputs": [
    {
     "ename": "SyntaxError",
     "evalue": "invalid syntax (<ipython-input-17-8d41a68cd500>, line 11)",
     "output_type": "error",
     "traceback": [
      "\u001b[0;36m  File \u001b[0;32m\"<ipython-input-17-8d41a68cd500>\"\u001b[0;36m, line \u001b[0;32m11\u001b[0m\n\u001b[0;31m    rom numpy.lib import stride_tricks\u001b[0m\n\u001b[0m            ^\u001b[0m\n\u001b[0;31mSyntaxError\u001b[0m\u001b[0;31m:\u001b[0m invalid syntax\n"
     ]
    }
   ],
   "source": [
    "import numpy as np\n",
    "import time\n",
    "import matplotlib.pyplot as plt\n",
    "from sklearn.datasets import load_digits\n",
    "import scipy.io.wavfile as wav\n",
    "import scipy.signal as sig\n",
    "from numpy.linalg import svd, norm, pinv\n",
    "import nengo\n",
    "from numpy import pi\n",
    "from nengo.utils.ensemble import tuning_curves\n",
    "rom numpy.lib import stride_tricks\n",
    "%matplotlib inline"
   ]
  },
  {
   "cell_type": "code",
   "execution_count": 18,
   "metadata": {
    "collapsed": false
   },
   "outputs": [
    {
     "name": "stderr",
     "output_type": "stream",
     "text": [
      "C:\\Users\\Vancat and Robdog\\Anaconda2\\lib\\site-packages\\ipykernel\\__main__.py:6: VisibleDeprecationWarning: using a non-integer number instead of an integer will result in an error in the future\n"
     ]
    },
    {
     "ename": "NameError",
     "evalue": "global name 'stride_tricks' is not defined",
     "output_type": "error",
     "traceback": [
      "\u001b[0;31m---------------------------------------------------------------------------\u001b[0m",
      "\u001b[0;31mNameError\u001b[0m                                 Traceback (most recent call last)",
      "\u001b[0;32m<ipython-input-18-06d3c4fde701>\u001b[0m in \u001b[0;36m<module>\u001b[0;34m()\u001b[0m\n\u001b[1;32m     73\u001b[0m     \u001b[0mplt\u001b[0m\u001b[1;33m.\u001b[0m\u001b[0mclf\u001b[0m\u001b[1;33m(\u001b[0m\u001b[1;33m)\u001b[0m\u001b[1;33m\u001b[0m\u001b[0m\n\u001b[1;32m     74\u001b[0m \u001b[1;33m\u001b[0m\u001b[0m\n\u001b[0;32m---> 75\u001b[0;31m \u001b[0mplotstft\u001b[0m\u001b[1;33m(\u001b[0m\u001b[1;34m\"ba_1.wav\"\u001b[0m\u001b[1;33m)\u001b[0m\u001b[1;33m\u001b[0m\u001b[0m\n\u001b[0m",
      "\u001b[0;32m<ipython-input-18-06d3c4fde701>\u001b[0m in \u001b[0;36mplotstft\u001b[0;34m(audiopath, binsize, plotpath, colormap)\u001b[0m\n\u001b[1;32m     45\u001b[0m \u001b[1;32mdef\u001b[0m \u001b[0mplotstft\u001b[0m\u001b[1;33m(\u001b[0m\u001b[0maudiopath\u001b[0m\u001b[1;33m,\u001b[0m \u001b[0mbinsize\u001b[0m\u001b[1;33m=\u001b[0m\u001b[1;36m2\u001b[0m\u001b[1;33m**\u001b[0m\u001b[1;36m10\u001b[0m\u001b[1;33m,\u001b[0m \u001b[0mplotpath\u001b[0m\u001b[1;33m=\u001b[0m\u001b[0mNone\u001b[0m\u001b[1;33m,\u001b[0m \u001b[0mcolormap\u001b[0m\u001b[1;33m=\u001b[0m\u001b[1;34m\"jet\"\u001b[0m\u001b[1;33m)\u001b[0m\u001b[1;33m:\u001b[0m\u001b[1;33m\u001b[0m\u001b[0m\n\u001b[1;32m     46\u001b[0m     \u001b[0msamplerate\u001b[0m\u001b[1;33m,\u001b[0m \u001b[0msamples\u001b[0m \u001b[1;33m=\u001b[0m \u001b[0mwav\u001b[0m\u001b[1;33m.\u001b[0m\u001b[0mread\u001b[0m\u001b[1;33m(\u001b[0m\u001b[0maudiopath\u001b[0m\u001b[1;33m)\u001b[0m\u001b[1;33m\u001b[0m\u001b[0m\n\u001b[0;32m---> 47\u001b[0;31m     \u001b[0ms\u001b[0m \u001b[1;33m=\u001b[0m \u001b[0mstft\u001b[0m\u001b[1;33m(\u001b[0m\u001b[0msamples\u001b[0m\u001b[1;33m,\u001b[0m \u001b[0mbinsize\u001b[0m\u001b[1;33m)\u001b[0m\u001b[1;33m\u001b[0m\u001b[0m\n\u001b[0m\u001b[1;32m     48\u001b[0m \u001b[1;33m\u001b[0m\u001b[0m\n\u001b[1;32m     49\u001b[0m     \u001b[0msshow\u001b[0m\u001b[1;33m,\u001b[0m \u001b[0mfreq\u001b[0m \u001b[1;33m=\u001b[0m \u001b[0mlogscale_spec\u001b[0m\u001b[1;33m(\u001b[0m\u001b[0ms\u001b[0m\u001b[1;33m,\u001b[0m \u001b[0mfactor\u001b[0m\u001b[1;33m=\u001b[0m\u001b[1;36m1.0\u001b[0m\u001b[1;33m,\u001b[0m \u001b[0msr\u001b[0m\u001b[1;33m=\u001b[0m\u001b[0msamplerate\u001b[0m\u001b[1;33m)\u001b[0m\u001b[1;33m\u001b[0m\u001b[0m\n",
      "\u001b[0;32m<ipython-input-18-06d3c4fde701>\u001b[0m in \u001b[0;36mstft\u001b[0;34m(sig, frameSize, overlapFac, window)\u001b[0m\n\u001b[1;32m     10\u001b[0m     \u001b[0msamples\u001b[0m \u001b[1;33m=\u001b[0m \u001b[0mnp\u001b[0m\u001b[1;33m.\u001b[0m\u001b[0mappend\u001b[0m\u001b[1;33m(\u001b[0m\u001b[0msamples\u001b[0m\u001b[1;33m,\u001b[0m \u001b[0mnp\u001b[0m\u001b[1;33m.\u001b[0m\u001b[0mzeros\u001b[0m\u001b[1;33m(\u001b[0m\u001b[0mframeSize\u001b[0m\u001b[1;33m)\u001b[0m\u001b[1;33m)\u001b[0m\u001b[1;33m\u001b[0m\u001b[0m\n\u001b[1;32m     11\u001b[0m \u001b[1;33m\u001b[0m\u001b[0m\n\u001b[0;32m---> 12\u001b[0;31m     \u001b[0mframes\u001b[0m \u001b[1;33m=\u001b[0m \u001b[0mstride_tricks\u001b[0m\u001b[1;33m.\u001b[0m\u001b[0mas_strided\u001b[0m\u001b[1;33m(\u001b[0m\u001b[0msamples\u001b[0m\u001b[1;33m,\u001b[0m \u001b[0mshape\u001b[0m\u001b[1;33m=\u001b[0m\u001b[1;33m(\u001b[0m\u001b[0mcols\u001b[0m\u001b[1;33m,\u001b[0m \u001b[0mframeSize\u001b[0m\u001b[1;33m)\u001b[0m\u001b[1;33m,\u001b[0m \u001b[0mstrides\u001b[0m\u001b[1;33m=\u001b[0m\u001b[1;33m(\u001b[0m\u001b[0msamples\u001b[0m\u001b[1;33m.\u001b[0m\u001b[0mstrides\u001b[0m\u001b[1;33m[\u001b[0m\u001b[1;36m0\u001b[0m\u001b[1;33m]\u001b[0m\u001b[1;33m*\u001b[0m\u001b[0mhopSize\u001b[0m\u001b[1;33m,\u001b[0m \u001b[0msamples\u001b[0m\u001b[1;33m.\u001b[0m\u001b[0mstrides\u001b[0m\u001b[1;33m[\u001b[0m\u001b[1;36m0\u001b[0m\u001b[1;33m]\u001b[0m\u001b[1;33m)\u001b[0m\u001b[1;33m)\u001b[0m\u001b[1;33m.\u001b[0m\u001b[0mcopy\u001b[0m\u001b[1;33m(\u001b[0m\u001b[1;33m)\u001b[0m\u001b[1;33m\u001b[0m\u001b[0m\n\u001b[0m\u001b[1;32m     13\u001b[0m     \u001b[0mframes\u001b[0m \u001b[1;33m*=\u001b[0m \u001b[0mwin\u001b[0m\u001b[1;33m\u001b[0m\u001b[0m\n\u001b[1;32m     14\u001b[0m \u001b[1;33m\u001b[0m\u001b[0m\n",
      "\u001b[0;31mNameError\u001b[0m: global name 'stride_tricks' is not defined"
     ]
    }
   ],
   "source": [
    "def stft(sig, frameSize, overlapFac=0.5, window=np.hanning):\n",
    "    win = window(frameSize)\n",
    "    hopSize = int(frameSize - np.floor(overlapFac * frameSize))\n",
    "    \n",
    "    # zeros at beginning (thus center of 1st window should be for sample nr. 0)\n",
    "    samples = np.append(np.zeros(np.floor(frameSize/2.0)), sig)    \n",
    "    # cols for windowing\n",
    "    cols = np.ceil( (len(samples) - frameSize) / float(hopSize)) + 1\n",
    "    # zeros at end (thus samples can be fully covered by frames)\n",
    "    samples = np.append(samples, np.zeros(frameSize))\n",
    "    \n",
    "    frames = stride_tricks.as_strided(samples, shape=(cols, frameSize), strides=(samples.strides[0]*hopSize, samples.strides[0])).copy()\n",
    "    frames *= win\n",
    "    \n",
    "    return np.fft.rfft(frames)    \n",
    "    \n",
    "\"\"\" scale frequency axis logarithmically \"\"\"    \n",
    "def logscale_spec(spec, sr=44100, factor=20.):\n",
    "    timebins, freqbins = np.shape(spec)\n",
    "\n",
    "    scale = np.linspace(0, 1, freqbins) ** factor\n",
    "    scale *= (freqbins-1)/max(scale)\n",
    "    scale = np.unique(np.round(scale))\n",
    "    \n",
    "    # create spectrogram with new freq bins\n",
    "    newspec = np.complex128(np.zeros([timebins, len(scale)]))\n",
    "    for i in range(0, len(scale)):\n",
    "        if i == len(scale)-1:\n",
    "            newspec[:,i] = np.sum(spec[:,scale[i]:], axis=1)\n",
    "        else:        \n",
    "            newspec[:,i] = np.sum(spec[:,scale[i]:scale[i+1]], axis=1)\n",
    "    \n",
    "    # list center freq of bins\n",
    "    allfreqs = np.abs(np.fft.fftfreq(freqbins*2, 1./sr)[:freqbins+1])\n",
    "    freqs = []\n",
    "    for i in range(0, len(scale)):\n",
    "        if i == len(scale)-1:\n",
    "            freqs += [np.mean(allfreqs[scale[i]:])]\n",
    "        else:\n",
    "            freqs += [np.mean(allfreqs[scale[i]:scale[i+1]])]\n",
    "    \n",
    "    return newspec, freqs\n",
    "\n",
    "\"\"\" plot spectrogram\"\"\"\n",
    "def plotstft(audiopath, binsize=2**10, plotpath=None, colormap=\"jet\"):\n",
    "    samplerate, samples = wav.read(audiopath)\n",
    "    s = stft(samples, binsize)\n",
    "    \n",
    "    sshow, freq = logscale_spec(s, factor=1.0, sr=samplerate)\n",
    "    ims = 20.*np.log10(np.abs(sshow)/10e-6) # amplitude to decibel\n",
    "    \n",
    "    timebins, freqbins = np.shape(ims)\n",
    "    \n",
    "    plt.figure(figsize=(15, 7.5))\n",
    "    plt.imshow(np.transpose(ims), origin=\"lower\", aspect=\"auto\", cmap=colormap, interpolation=\"none\")\n",
    "    plt.colorbar()\n",
    "\n",
    "    plt.xlabel(\"time (s)\")\n",
    "    plt.ylabel(\"frequency (hz)\")\n",
    "    plt.xlim([0, timebins-1])\n",
    "    plt.ylim([0, freqbins])\n",
    "\n",
    "    xlocs = np.float32(np.linspace(0, timebins-1, 5))\n",
    "    plt.xticks(xlocs, [\"%.02f\" % l for l in ((xlocs*len(samples)/timebins)+(0.5*binsize))/samplerate])\n",
    "    ylocs = np.int16(np.round(np.linspace(0, freqbins-1, 10)))\n",
    "    plt.yticks(ylocs, [\"%.02f\" % freq[i] for i in ylocs])\n",
    "    \n",
    "    if plotpath:\n",
    "        plt.savefig(plotpath, bbox_inches=\"tight\")\n",
    "    else:\n",
    "        plt.show()\n",
    "        \n",
    "    plt.clf()\n",
    "\n",
    "plotstft(\"ba_1.wav\")"
   ]
  },
  {
   "cell_type": "code",
   "execution_count": 19,
   "metadata": {
    "collapsed": false
   },
   "outputs": [
    {
     "name": "stdout",
     "output_type": "stream",
     "text": [
      "269.606552374\n"
     ]
    },
    {
     "ename": "ValueError",
     "evalue": "noverlap must be less than nperseg.",
     "output_type": "error",
     "traceback": [
      "\u001b[0;31m---------------------------------------------------------------------------\u001b[0m",
      "\u001b[0;31mValueError\u001b[0m                                Traceback (most recent call last)",
      "\u001b[0;32m<ipython-input-19-7034eeea0977>\u001b[0m in \u001b[0;36m<module>\u001b[0;34m()\u001b[0m\n\u001b[1;32m      7\u001b[0m \u001b[0mplt\u001b[0m\u001b[1;33m.\u001b[0m\u001b[0mplot\u001b[0m\u001b[1;33m(\u001b[0m\u001b[0mspec1\u001b[0m\u001b[1;33m[\u001b[0m\u001b[1;33m:\u001b[0m\u001b[1;33m,\u001b[0m\u001b[1;36m1\u001b[0m\u001b[1;33m]\u001b[0m\u001b[1;33m)\u001b[0m\u001b[1;33m\u001b[0m\u001b[0m\n\u001b[1;32m      8\u001b[0m \u001b[1;32mprint\u001b[0m\u001b[1;33m(\u001b[0m\u001b[0mnp\u001b[0m\u001b[1;33m.\u001b[0m\u001b[0mmean\u001b[0m\u001b[1;33m(\u001b[0m\u001b[0mnp\u001b[0m\u001b[1;33m.\u001b[0m\u001b[0msqrt\u001b[0m\u001b[1;33m(\u001b[0m\u001b[0mspec1\u001b[0m\u001b[1;33m[\u001b[0m\u001b[1;33m:\u001b[0m\u001b[1;33m,\u001b[0m\u001b[1;36m1\u001b[0m\u001b[1;33m]\u001b[0m\u001b[1;33m**\u001b[0m\u001b[1;36m2\u001b[0m\u001b[1;33m)\u001b[0m\u001b[1;33m)\u001b[0m\u001b[1;33m)\u001b[0m\u001b[1;33m\u001b[0m\u001b[0m\n\u001b[0;32m----> 9\u001b[0;31m \u001b[0mfre\u001b[0m\u001b[1;33m,\u001b[0m \u001b[0mte\u001b[0m\u001b[1;33m,\u001b[0m \u001b[0mSxx\u001b[0m \u001b[1;33m=\u001b[0m \u001b[0msig\u001b[0m\u001b[1;33m.\u001b[0m\u001b[0mspectrogram\u001b[0m\u001b[1;33m(\u001b[0m\u001b[0mdata_ba\u001b[0m\u001b[1;33m,\u001b[0m \u001b[1;36m5\u001b[0m\u001b[1;33m)\u001b[0m\u001b[1;33m\u001b[0m\u001b[0m\n\u001b[0m\u001b[1;32m     10\u001b[0m \u001b[1;33m\u001b[0m\u001b[0m\n\u001b[1;32m     11\u001b[0m \u001b[0mnum_items\u001b[0m \u001b[1;33m=\u001b[0m \u001b[1;36m2\u001b[0m\u001b[1;33m\u001b[0m\u001b[0m\n",
      "\u001b[0;32mC:\\Users\\Vancat and Robdog\\Anaconda2\\lib\\site-packages\\scipy\\signal\\spectral.py\u001b[0m in \u001b[0;36mspectrogram\u001b[0;34m(x, fs, window, nperseg, noverlap, nfft, detrend, return_onesided, scaling, axis, mode)\u001b[0m\n\u001b[1;32m    514\u001b[0m     freqs, time, Pxy = _spectral_helper(x, x, fs, window, nperseg, noverlap,\n\u001b[1;32m    515\u001b[0m                                         \u001b[0mnfft\u001b[0m\u001b[1;33m,\u001b[0m \u001b[0mdetrend\u001b[0m\u001b[1;33m,\u001b[0m \u001b[0mreturn_onesided\u001b[0m\u001b[1;33m,\u001b[0m \u001b[0mscaling\u001b[0m\u001b[1;33m,\u001b[0m\u001b[1;33m\u001b[0m\u001b[0m\n\u001b[0;32m--> 516\u001b[0;31m                                         axis, mode=mode)\n\u001b[0m\u001b[1;32m    517\u001b[0m \u001b[1;33m\u001b[0m\u001b[0m\n\u001b[1;32m    518\u001b[0m     \u001b[1;32mreturn\u001b[0m \u001b[0mfreqs\u001b[0m\u001b[1;33m,\u001b[0m \u001b[0mtime\u001b[0m\u001b[1;33m,\u001b[0m \u001b[0mPxy\u001b[0m\u001b[1;33m\u001b[0m\u001b[0m\n",
      "\u001b[0;32mC:\\Users\\Vancat and Robdog\\Anaconda2\\lib\\site-packages\\scipy\\signal\\spectral.py\u001b[0m in \u001b[0;36m_spectral_helper\u001b[0;34m(x, y, fs, window, nperseg, noverlap, nfft, detrend, return_onesided, scaling, axis, mode)\u001b[0m\n\u001b[1;32m    787\u001b[0m         \u001b[0mnoverlap\u001b[0m \u001b[1;33m=\u001b[0m \u001b[0mnperseg\u001b[0m\u001b[1;33m//\u001b[0m\u001b[1;36m2\u001b[0m\u001b[1;33m\u001b[0m\u001b[0m\n\u001b[1;32m    788\u001b[0m     \u001b[1;32melif\u001b[0m \u001b[0mnoverlap\u001b[0m \u001b[1;33m>=\u001b[0m \u001b[0mnperseg\u001b[0m\u001b[1;33m:\u001b[0m\u001b[1;33m\u001b[0m\u001b[0m\n\u001b[0;32m--> 789\u001b[0;31m         \u001b[1;32mraise\u001b[0m \u001b[0mValueError\u001b[0m\u001b[1;33m(\u001b[0m\u001b[1;34m'noverlap must be less than nperseg.'\u001b[0m\u001b[1;33m)\u001b[0m\u001b[1;33m\u001b[0m\u001b[0m\n\u001b[0m\u001b[1;32m    790\u001b[0m     \u001b[1;32melse\u001b[0m\u001b[1;33m:\u001b[0m\u001b[1;33m\u001b[0m\u001b[0m\n\u001b[1;32m    791\u001b[0m         \u001b[0mnoverlap\u001b[0m \u001b[1;33m=\u001b[0m \u001b[0mint\u001b[0m\u001b[1;33m(\u001b[0m\u001b[0mnoverlap\u001b[0m\u001b[1;33m)\u001b[0m\u001b[1;33m\u001b[0m\u001b[0m\n",
      "\u001b[0;31mValueError\u001b[0m: noverlap must be less than nperseg."
     ]
    },
    {
     "data": {
      "image/png": "[encoded data removed]",
      "text/plain": [
       "<matplotlib.figure.Figure at 0xbfbd978>"
      ]
     },
     "metadata": {},
     "output_type": "display_data"
    }
   ],
   "source": [
    "#Initialize Data\n",
    "#testcomment\n",
    "\n",
    "rate_ba, data_ba = wavi.read('ba_1.wav',mmap=False)\n",
    "#tfreq = 1/rate*np.ones((data_ba.shape[0],1))\n",
    "spec1 = np.real(np.fft.fft2(data_ba))\n",
    "plt.plot(spec1[:,1])\n",
    "print(np.mean(np.sqrt(spec1[:,1]**2)))\n",
    "fre, te, Sxx = sig.spectrogram(data_ba, 5)\n",
    "\n",
    "num_items = 2\n",
    "\n",
    "d_key = 4\n",
    "d_value = 4\n",
    "\n",
    "rng = np.random.RandomState(seed=7)\n",
    "keys = nengo.dists.UniformHypersphere(surface=True).sample(\n",
    "    num_items, d_key, rng=rng)\n",
    "print(keys)\n",
    "values = nengo.dists.UniformHypersphere(surface=False).sample(\n",
    "    num_items, d_value, rng=rng)"
   ]
  },
  {
   "cell_type": "code",
   "execution_count": null,
   "metadata": {
    "collapsed": false
   },
   "outputs": [],
   "source": [
    "#General Use Functions\n",
    "intercept = (np.dot(keys, keys.T) - np.eye(num_items)).flatten().max()\n",
    "print(\"Intercept: %s\" % intercept)"
   ]
  },
  {
   "cell_type": "code",
   "execution_count": null,
   "metadata": {
    "collapsed": false
   },
   "outputs": [],
   "source": [
    "def cycle_array(x, period, dt=0.001):\n",
    "    \"\"\"Cycles through the elements\"\"\"\n",
    "    i_every = int(round(period / dt))\n",
    "    if i_every != period / dt:\n",
    "        raise ValueError(\"dt (%s) does not divide period (%s)\" % (dt, period))\n",
    "\n",
    "    def f(t):\n",
    "        i = int(round((t - dt) / dt))  # t starts at dt\n",
    "        return x[int(i / i_every) % len(x)]\n",
    "\n",
    "    return f"
   ]
  },
  {
   "cell_type": "code",
   "execution_count": null,
   "metadata": {
    "collapsed": false
   },
   "outputs": [],
   "source": [
    "# Model constants\n",
    "n_neurons = 50\n",
    "dt = 0.001\n",
    "period = 0.9\n",
    "T = period * num_items * 2\n",
    "\n",
    "# Model network\n",
    "model = nengo.Network()\n",
    "with model:\n",
    "\n",
    "    # Create the inputs/outputs\n",
    "    stim_keys = nengo.Node(output=cycle_array(keys, period, dt))\n",
    "    stim_values = nengo.Node(output=cycle_array(values, period, dt))\n",
    "    learning = nengo.Node(output=lambda t: -int(t >= T / 2))\n",
    "    recall = nengo.Node(size_in=d_value)\n",
    "\n",
    "    # Create the memory\n",
    "    memory = nengo.Ensemble(\n",
    "        n_neurons, d_key, intercepts=[intercept] * n_neurons)\n",
    "\n",
    "    # Learn the encoders/keys\n",
    "    voja = nengo.Voja(post_tau=None, learning_rate=5e-1)\n",
    "    conn_in = nengo.Connection(\n",
    "        stim_keys, memory, synapse=None, learning_rule_type=voja)\n",
    "    nengo.Connection(learning, conn_in.learning_rule, synapse=None)\n",
    "\n",
    "    # Learn the decoders/values, initialized to a null function\n",
    "    conn_out = nengo.Connection(\n",
    "        memory,\n",
    "        recall,\n",
    "        learning_rule_type=nengo.PES(1e-3),\n",
    "        function=lambda x: np.zeros(d_value))\n",
    "\n",
    "    # Create the error population\n",
    "    error = nengo.Ensemble(n_neurons, d_value)\n",
    "    nengo.Connection(\n",
    "        learning, error.neurons, transform=[[10.0]] * n_neurons, synapse=None)\n",
    "\n",
    "    # Calculate the error and use it to drive the PES rule\n",
    "    nengo.Connection(stim_values, error, transform=-1, synapse=None)\n",
    "    nengo.Connection(recall, error, synapse=None)\n",
    "    nengo.Connection(error, conn_out.learning_rule)\n",
    "\n",
    "    # Setup probes\n",
    "    p_keys = nengo.Probe(stim_keys, synapse=None)\n",
    "    p_values = nengo.Probe(stim_values, synapse=None)\n",
    "    p_learning = nengo.Probe(learning, synapse=None)\n",
    "    p_error = nengo.Probe(error, synapse=0.005)\n",
    "    p_recall = nengo.Probe(recall, synapse=None)\n",
    "    p_encoders = nengo.Probe(conn_in.learning_rule, 'scaled_encoders')"
   ]
  },
  {
   "cell_type": "code",
   "execution_count": null,
   "metadata": {
    "collapsed": false
   },
   "outputs": [],
   "source": [
    "with nengo.Simulator(model, dt=dt) as sim:\n",
    "    sim.run(T)\n",
    "t = sim.trange()\n",
    "\n",
    "plt.figure()\n",
    "plt.title(\"Keys\")\n",
    "plt.plot(t, sim.data[p_keys])\n",
    "plt.ylim(-1, 1)\n",
    "\n",
    "plt.figure()\n",
    "plt.title(\"Values\")\n",
    "plt.plot(t, sim.data[p_values])\n",
    "plt.ylim(-1, 1)\n",
    "\n",
    "plt.figure()\n",
    "plt.title(\"Learning\")\n",
    "plt.plot(t, sim.data[p_learning])\n",
    "plt.ylim(-1.2, 0.2);"
   ]
  },
  {
   "cell_type": "code",
   "execution_count": null,
   "metadata": {
    "collapsed": false
   },
   "outputs": [],
   "source": [
    "train = t <= T / 2\n",
    "test = ~train\n",
    "\n",
    "plt.figure()\n",
    "plt.title(\"Value Error During Training\")\n",
    "plt.plot(t[train], sim.data[p_error][train])\n",
    "\n",
    "plt.figure()\n",
    "plt.title(\"Value Error During Recall\")\n",
    "plt.plot(t[test], sim.data[p_recall][test] - sim.data[p_values][test]);"
   ]
  },
  {
   "cell_type": "code",
   "execution_count": null,
   "metadata": {
    "collapsed": false
   },
   "outputs": [],
   "source": [
    "\n",
    "scale = (sim.data[memory].gain / memory.radius)[:, np.newaxis]\n",
    "\n",
    "\n",
    "\n",
    "\n",
    "def plot_2d(text, xy):\n",
    "    plt.figure()\n",
    "    plt.title(text)\n",
    "    plt.scatter(xy[:, 0], xy[:, 1], label=\"Encoders\")\n",
    "    plt.scatter(\n",
    "        keys[:, 0], keys[:, 1], c='red', s=150, alpha=0.6, label=\"Keys\")\n",
    "    plt.xlim(-1.5, 1.5)\n",
    "    plt.ylim(-1.5, 2)\n",
    "    plt.legend()\n",
    "    plt.axes().set_aspect('equal')\n",
    "\n",
    "\n",
    "plot_2d(\"Before\", sim.data[p_encoders][0].copy() / scale)\n",
    "plot_2d(\"After\", sim.data[p_encoders][-1].copy() / scale)"
   ]
  },
  {
   "cell_type": "code",
   "execution_count": null,
   "metadata": {
    "collapsed": true
   },
   "outputs": [],
   "source": []
  },
  {
   "cell_type": "code",
   "execution_count": null,
   "metadata": {
    "collapsed": true
   },
   "outputs": [],
   "source": []
  },
  {
   "cell_type": "code",
   "execution_count": null,
   "metadata": {
    "collapsed": true
   },
   "outputs": [],
   "source": []
  }
 ],
 "metadata": {
  "kernelspec": {
   "display_name": "Python 2",
   "language": "python",
   "name": "python2"
  },
  "language_info": {
   "codemirror_mode": {
    "name": "ipython",
    "version": 2
   },
   "file_extension": ".py",
   "mimetype": "text/x-python",
   "name": "python",
   "nbconvert_exporter": "python",
   "pygments_lexer": "ipython2",
   "version": "2.7.13"
  }
 },
 "nbformat": 4,
 "nbformat_minor": 2
}
