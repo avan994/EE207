{
 "cells": [
  {
   "cell_type": "markdown",
   "metadata": {
    "collapsed": false
   },
   "source": [
    "## EE 207 Project\n",
    "\n",
    "Robert Summers\n",
    "\n",
    "Anthony Van\n",
    "\n",
    "Notes: Loaded in assets and set up general scheme for simplicity"
   ]
  },
  {
   "cell_type": "code",
   "execution_count": 4,
   "metadata": {
    "collapsed": true
   },
   "outputs": [],
   "source": [
    "import numpy as np\n",
    "import time\n",
    "import matplotlib.pyplot as plt\n",
    "from numpy.linalg import svd, norm, pinv\n",
    "import nengo\n",
    "from numpy import pi\n",
    "from nengo.utils.ensemble import tuning_curves\n",
    "%matplotlib inline"
   ]
  },
  {
   "cell_type": "code",
   "execution_count": 1,
   "metadata": {
    "collapsed": true
   },
   "outputs": [],
   "source": [
    "#Initialize Data\n",
    "#testcomment"
   ]
  },
  {
   "cell_type": "code",
   "execution_count": 8,
   "metadata": {
    "collapsed": false
   },
   "outputs": [
    {
     "name": "stdout",
     "output_type": "stream",
     "text": [
      "0\n"
     ]
    }
   ],
   "source": [
    "#General Use Functions\n",
    "\n",
    "#Scoring Functions\n",
    "\n",
    "def equals(a_in, b_in):\n",
    "    return a_in == b_in\n",
    "\n",
    "def percentDifference(a_in, b_in):\n",
    "    return (a_in-b_in)/b_in\n",
    "\n",
    "def percentSame(a_in, b_in):\n",
    "    return 1 - percentDifference(a_in, b_in)\n",
    "\n",
    "#takes two lists as inputs\n",
    "def scoreAll(a_in, b_in, scoringFunction_in):\n",
    "    score = 0;\n",
    "    scores = [scoringFunction_in(a_i, b_in[i]) for i, a_i in enumerate(a_in)]\n",
    "    score = sum(scores);\n",
    "    #for i in range(0, a_in.length):\n",
    "    #    score += scoringFunction_in(a_in[i], b_in[i])\n",
    "    return score;\n",
    "\n",
    "\n",
    "#debugging\n",
    "#at = [1, 2, 3]\n",
    "print scoreAll(at,at, percentDifference)"
   ]
  },
  {
   "cell_type": "code",
   "execution_count": null,
   "metadata": {
    "collapsed": true
   },
   "outputs": [],
   "source": []
  }
 ],
 "metadata": {
  "kernelspec": {
   "display_name": "Python 2",
   "language": "python",
   "name": "python2"
  },
  "language_info": {
   "codemirror_mode": {
    "name": "ipython",
    "version": 2
   },
   "file_extension": ".py",
   "mimetype": "text/x-python",
   "name": "python",
   "nbconvert_exporter": "python",
   "pygments_lexer": "ipython2",
   "version": "2.7.13"
  }
 },
 "nbformat": 4,
 "nbformat_minor": 2
}
